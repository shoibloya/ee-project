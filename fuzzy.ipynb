{
  "cells": [
    {
      "cell_type": "code",
      "execution_count": 2,
      "metadata": {
        "colab": {
          "base_uri": "https://localhost:8080/"
        },
        "id": "1gYmt6eSRtXB",
        "outputId": "511eb5b4-89ed-4812-8d62-e24e68228a74"
      },
      "outputs": [
        {
          "name": "stdout",
          "output_type": "stream",
          "text": [
            "Collecting scikit-fuzzy\n",
            "  Downloading scikit-fuzzy-0.4.2.tar.gz (993 kB)\n",
            "\u001b[2K     \u001b[90m━━━━━━━━━━━━━━━━━━━━━━━━━━━━━━━━━━━━━━━━\u001b[0m \u001b[32m994.0/994.0 kB\u001b[0m \u001b[31m9.5 MB/s\u001b[0m eta \u001b[36m0:00:00\u001b[0m\n",
            "\u001b[?25h  Preparing metadata (setup.py) ... \u001b[?25l\u001b[?25hdone\n",
            "Requirement already satisfied: numpy>=1.6.0 in /usr/local/lib/python3.10/dist-packages (from scikit-fuzzy) (1.25.2)\n",
            "Requirement already satisfied: scipy>=0.9.0 in /usr/local/lib/python3.10/dist-packages (from scikit-fuzzy) (1.11.4)\n",
            "Requirement already satisfied: networkx>=1.9.0 in /usr/local/lib/python3.10/dist-packages (from scikit-fuzzy) (3.3)\n",
            "Building wheels for collected packages: scikit-fuzzy\n",
            "  Building wheel for scikit-fuzzy (setup.py) ... \u001b[?25l\u001b[?25hdone\n",
            "  Created wheel for scikit-fuzzy: filename=scikit_fuzzy-0.4.2-py3-none-any.whl size=894078 sha256=82b2e9c12dda7c83f98a15f1fd65ea0f1e1d95a6e842d8470ccc238ba6794bc0\n",
            "  Stored in directory: /root/.cache/pip/wheels/4f/86/1b/dfd97134a2c8313e519bcebd95d3fedc7be7944db022094bc8\n",
            "Successfully built scikit-fuzzy\n",
            "Installing collected packages: scikit-fuzzy\n",
            "Successfully installed scikit-fuzzy-0.4.2\n"
          ]
        }
      ],
      "source": [
        "!pip install scikit-fuzzy"
      ]
    },
    {
      "cell_type": "code",
      "execution_count": 3,
      "metadata": {
        "id": "wbl8wLqxRwGZ"
      },
      "outputs": [],
      "source": [
        "import pandas as pd\n",
        "import numpy as np\n",
        "from sklearn.preprocessing import MinMaxScaler\n",
        "import skfuzzy as fuzz\n"
      ]
    },
    {
      "cell_type": "code",
      "execution_count": 54,
      "metadata": {
        "colab": {
          "base_uri": "https://localhost:8080/"
        },
        "id": "7gCyJB_QR6yR",
        "outputId": "9cdc3caf-6734-4d73-f1b0-c41cddeb916d"
      },
      "outputs": [
        {
          "name": "stdout",
          "output_type": "stream",
          "text": [
            "      CRIM    ZN  INDUS  CHAS    NOX     RM   AGE     DIS  RAD  TAX  PTRATIO  \\\n",
            "0  0.00632  18.0   2.31   0.0  0.538  6.575  65.2  4.0900    1  296     15.3   \n",
            "1  0.02731   0.0   7.07   0.0  0.469  6.421  78.9  4.9671    2  242     17.8   \n",
            "2  0.02729   0.0   7.07   0.0  0.469  7.185  61.1  4.9671    2  242     17.8   \n",
            "3  0.03237   0.0   2.18   0.0  0.458  6.998  45.8  6.0622    3  222     18.7   \n",
            "4  0.06905   0.0   2.18   0.0  0.458  7.147  54.2  6.0622    3  222     18.7   \n",
            "\n",
            "        B  LSTAT  MEDV  \n",
            "0  396.90   4.98  24.0  \n",
            "1  396.90   9.14  21.6  \n",
            "2  392.83   4.03  34.7  \n",
            "3  394.63   2.94  33.4  \n",
            "4  396.90    NaN  36.2  \n"
          ]
        }
      ],
      "source": [
        "data = pd.read_csv('HousingData.csv')\n",
        "print(data.head())"
      ]
    },
    {
      "cell_type": "code",
      "execution_count": 55,
      "metadata": {
        "id": "b7UqAIZGR8qD"
      },
      "outputs": [],
      "source": [
        "data = data.drop('CHAS', axis=1) #dropping because categorical"
      ]
    },
    {
      "cell_type": "code",
      "execution_count": 56,
      "metadata": {
        "id": "6l_As-oeSGvf"
      },
      "outputs": [],
      "source": [
        "#Taking log transformations\n",
        "data['MEDV'] = np.log(data['MEDV'] + 1)\n",
        "data['CRIM'] = np.log(data['CRIM'] + 1)\n",
        "data['NOX'] = np.log(data['NOX'] + 1)\n",
        "data['DIS'] = np.log(data['DIS'] + 1)\n",
        "data['TAX'] = np.log(data['TAX'] + 1)"
      ]
    },
    {
      "cell_type": "code",
      "execution_count": 57,
      "metadata": {
        "id": "o8BL8b13SIsM"
      },
      "outputs": [],
      "source": [
        "#Normalising values\n",
        "\n",
        "scaler = MinMaxScaler()\n",
        "data[['CRIM', 'ZN', 'INDUS', 'NOX', 'RM', 'AGE', 'DIS', 'RAD', 'TAX', 'PTRATIO', 'B', 'LSTAT', 'MEDV']] = scaler.fit_transform(data[['CRIM', 'ZN', 'INDUS', 'NOX', 'RM', 'AGE', 'DIS', 'RAD', 'TAX', 'PTRATIO', 'B', 'LSTAT', 'MEDV']])"
      ]
    },
    {
      "cell_type": "code",
      "execution_count": 90,
      "metadata": {
        "id": "NQofKvWWfWj1"
      },
      "outputs": [],
      "source": [
        "test = data.sample(n=50)  #test data\n",
        "data = data.drop(test.index)"
      ]
    },
    {
      "cell_type": "code",
      "execution_count": 59,
      "metadata": {
        "colab": {
          "base_uri": "https://localhost:8080/"
        },
        "id": "vbICG8kfSKgR",
        "outputId": "baa0d060-95a8-42f5-fb93-4a2d304d0bbc"
      },
      "outputs": [
        {
          "name": "stdout",
          "output_type": "stream",
          "text": [
            "       CRIM        ZN     INDUS     NOX    RM        AGE     DIS       RAD  \\\n",
            "0  Very Low       Low  Very Low  Medium  High       High  Medium  Very Low   \n",
            "1  Very Low  Very Low       Low     Low  High  Very High    High  Very Low   \n",
            "2  Very Low  Very Low       Low     Low  High       High    High  Very Low   \n",
            "3  Very Low  Very Low  Very Low     Low  High     Medium    High  Very Low   \n",
            "4  Very Low  Very Low  Very Low     Low  High     Medium    High  Very Low   \n",
            "\n",
            "        TAX PTRATIO          B     LSTAT       MEDV    Rule Value  \n",
            "0    Medium     Low  Very High  Very Low       High  4.675572e-18  \n",
            "1       Low    High  Very High       Low       High  3.632230e-17  \n",
            "2       Low    High  Very High  Very Low  Very High  2.901690e-03  \n",
            "3  Very Low    High  Very High  Very Low  Very High  6.234237e-04  \n",
            "4  Very Low    High  Very High  Very Low  Very High           NaN  \n"
          ]
        }
      ],
      "source": [
        "def extract_fuzzy_rules_with_values(data ,category_value=3):\n",
        "    #define the fuzzy membership functions\n",
        "    if category_value == 3:\n",
        "        categories = {\n",
        "            \"Low\": fuzz.trimf(np.arange(0, 1.01, 0.01), [0, 0, 0.3]),\n",
        "            \"Medium\": fuzz.trimf(np.arange(0, 1.01, 0.01), [0.15, 0.3, 0.45]),\n",
        "            \"High\": fuzz.trimf(np.arange(0, 1.01, 0.01), [0.3, 0.45, 1])\n",
        "        }\n",
        "    elif category_value == 5:\n",
        "        categories = {\n",
        "            \"Very Low\": fuzz.trimf(np.arange(0, 1.01, 0.01), [0, 0, 0.2]),\n",
        "            \"Low\": fuzz.trimf(np.arange(0, 1.01, 0.01), [0.1, 0.2, 0.4]),\n",
        "            \"Medium\": fuzz.trimf(np.arange(0, 1.01, 0.01), [0.3, 0.4, 0.6]),\n",
        "            \"High\": fuzz.trimf(np.arange(0, 1.01, 0.01), [0.5, 0.6, 0.8]),\n",
        "            \"Very High\": fuzz.trimf(np.arange(0, 1.01, 0.01), [0.7, 0.8, 1])\n",
        "    }\n",
        "    elif category_value == 7:\n",
        "         categories = {\n",
        "        \"Very Very Low\": fuzz.trimf(np.arange(0, 1.01, 0.01), [0, 0, 0.143]),\n",
        "        \"Very Low\": fuzz.trimf(np.arange(0, 1.01, 0.01), [0.071, 0.143, 0.286]),\n",
        "        \"Low\": fuzz.trimf(np.arange(0, 1.01, 0.01), [0.214, 0.286, 0.429]),\n",
        "        \"Medium\": fuzz.trimf(np.arange(0, 1.01, 0.01), [0.357, 0.429, 0.571]),\n",
        "        \"High\": fuzz.trimf(np.arange(0, 1.01, 0.01), [0.5, 0.571, 0.714]),\n",
        "        \"Very High\": fuzz.trimf(np.arange(0, 1.01, 0.01), [0.643, 0.714, 0.857]),\n",
        "        \"Very Very High\": fuzz.trimf(np.arange(0, 1.01, 0.01), [0.786, 0.857, 1])\n",
        "    }\n",
        "\n",
        "\n",
        "    #creating a dataframe for rules\n",
        "    rules_df = pd.DataFrame(columns=list(data.columns) + ['Rule Value'])\n",
        "\n",
        "    for index, row in data.iterrows():\n",
        "        rule = []\n",
        "        rule_value = 1\n",
        "        for col in data.columns:\n",
        "            #taken from skfuzzy docs\n",
        "            memberships = {cat: fuzz.interp_membership(np.arange(0, 1.01, 0.01), mf, row[col]) for cat, mf in categories.items()}\n",
        "            highest_category = max(memberships, key=memberships.get)\n",
        "            rule.append(highest_category)\n",
        "            rule_value *= memberships[highest_category] #assigning value to each rule\n",
        "\n",
        "        rule.append(rule_value)\n",
        "        rules_df.loc[index] = rule\n",
        "\n",
        "    return rules_df\n",
        "\n",
        "rules_df_three = extract_fuzzy_rules_with_values(data, category_value=3)\n",
        "rules_df_five = extract_fuzzy_rules_with_values(data, category_value=5)\n",
        "rules_df_seven = extract_fuzzy_rules_with_values(data, category_value=7)\n",
        "print(rules_df_five.head())"
      ]
    },
    {
      "cell_type": "code",
      "execution_count": 60,
      "metadata": {
        "id": "4PYgaM1qSMdh"
      },
      "outputs": [],
      "source": [
        "def clean_rules(df):\n",
        "    df = df.dropna(subset=['Rule Value']) #we have some NaN values\n",
        "\n",
        "    input_features = df.columns[:-2] #taking all features except the MEDV feature and the rule value\n",
        "    groups = df.groupby(list(input_features)) #grouping by input feature fuzzy sets\n",
        "    best_rules = pd.DataFrame()\n",
        "\n",
        "    for _, group in groups:\n",
        "        if len(group['MEDV'].unique()) > 1:  #if the input assignments lead to more than one outputs (consequents)\n",
        "            max_rule = group.loc[group['Rule Value'].idxmax()] #take the rule with the highets rule value\n",
        "            best_rules = pd.concat([best_rules, pd.DataFrame([max_rule])], ignore_index=True)\n",
        "        else:\n",
        "            best_rules = pd.concat([best_rules, group], ignore_index=True)#if thats the only rule\n",
        "\n",
        "    return best_rules\n",
        "\n",
        "best_rules_three = clean_rules(rules_df_three)\n",
        "best_rules_five = clean_rules(rules_df_five)\n",
        "best_rules_seven = clean_rules(rules_df_seven)"
      ]
    },
    {
      "cell_type": "code",
      "execution_count": 87,
      "metadata": {
        "id": "BlNb03yDSQO1"
      },
      "outputs": [],
      "source": [
        "#Confession -> this function was changed after submission at 1:50AM in an attempt to fix the defuzzification process. However, I was unsuccessful in fixing it.\n",
        "#Wrong implementation\n",
        "def make_predictions(data, rules_df, category_value=3):\n",
        "    if category_value == 3:\n",
        "        medv_categories = {\n",
        "            \"Low\": fuzz.trimf(np.arange(0, 1.01, 0.01), [0, 0, 0.3]),\n",
        "            \"Medium\": fuzz.trimf(np.arange(0, 1.01, 0.01), [0.15, 0.3, 0.45]),\n",
        "            \"High\": fuzz.trimf(np.arange(0, 1.01, 0.01), [0.3, 0.45, 1])\n",
        "        }\n",
        "    elif category_value == 5:\n",
        "        medv_categories = {\n",
        "            \"Very Low\": fuzz.trimf(np.arange(0, 1.01, 0.01), [0, 0, 0.2]),\n",
        "            \"Low\": fuzz.trimf(np.arange(0, 1.01, 0.01), [0.1, 0.2, 0.4]),\n",
        "            \"Medium\": fuzz.trimf(np.arange(0, 1.01, 0.01), [0.3, 0.4, 0.6]),\n",
        "            \"High\": fuzz.trimf(np.arange(0, 1.01, 0.01), [0.5, 0.6, 0.8]),\n",
        "            \"Very High\": fuzz.trimf(np.arange(0, 1.01, 0.01), [0.7, 0.8, 1])\n",
        "    }\n",
        "    elif category_value == 7:\n",
        "        medv_categories = {\n",
        "        \"Very Very Low\": fuzz.trimf(np.arange(0, 1.01, 0.01), [0, 0, 0.143]),\n",
        "        \"Very Low\": fuzz.trimf(np.arange(0, 1.01, 0.01), [0.071, 0.143, 0.286]),\n",
        "        \"Low\": fuzz.trimf(np.arange(0, 1.01, 0.01), [0.214, 0.286, 0.429]),\n",
        "        \"Medium\": fuzz.trimf(np.arange(0, 1.01, 0.01), [0.357, 0.429, 0.571]),\n",
        "        \"High\": fuzz.trimf(np.arange(0, 1.01, 0.01), [0.5, 0.571, 0.714]),\n",
        "        \"Very High\": fuzz.trimf(np.arange(0, 1.01, 0.01), [0.643, 0.714, 0.857]),\n",
        "        \"Very Very High\": fuzz.trimf(np.arange(0, 1.01, 0.01), [0.786, 0.857, 1])\n",
        "    }\n",
        "\n",
        "    #taken from skfuzzy docs\n",
        "    medv_centroids = {\n",
        "        cat: fuzz.centroid(np.arange(0, 1.01, 0.01), mf) for cat, mf in medv_categories.items()\n",
        "    }\n",
        "\n",
        "    predictions = []\n",
        "    i = 0\n",
        "    for _, row in data.iterrows():\n",
        "        i = i+1\n",
        "        print(f\"Processing data: {i}\")\n",
        "        best_match = None\n",
        "        highest_membership = 0\n",
        "\n",
        "        for _, rule_row in rules_df.iterrows():\n",
        "            product_of_memberships = 1\n",
        "            for col in data.columns[:-1]:  # ignore MEDV and rule value\n",
        "                cat = rule_row[col] #get the value for feature\n",
        "                mf = medv_categories[cat]\n",
        "                membership = fuzz.interp_membership(np.arange(0, 1.01, 0.01), mf, row[col])#get membership value\n",
        "                product_of_memberships *= membership#because of 'and' operation\n",
        "\n",
        "            if product_of_memberships > highest_membership:\n",
        "                highest_membership = product_of_memberships\n",
        "                best_match = rule_row['MEDV']\n",
        "\n",
        "        if best_match:\n",
        "            predicted_medv = medv_centroids[best_match]#use the centroid defuzzification\n",
        "            predictions.append(predicted_medv)\n",
        "        else:\n",
        "            predictions.append(0)\n",
        "\n",
        "    return predictions"
      ]
    },
    {
      "cell_type": "code",
      "execution_count": 88,
      "metadata": {
        "colab": {
          "base_uri": "https://localhost:8080/"
        },
        "id": "Y6yVGserSUBQ",
        "outputId": "a2b052be-d7e6-4e91-e818-94575e89839a"
      },
      "outputs": [
        {
          "name": "stdout",
          "output_type": "stream",
          "text": [
            "Processing data: 1\n",
            "Processing data: 2\n",
            "Processing data: 3\n",
            "Processing data: 4\n",
            "Processing data: 5\n",
            "Processing data: 6\n",
            "Processing data: 7\n",
            "Processing data: 8\n",
            "Processing data: 9\n",
            "Processing data: 10\n",
            "Processing data: 11\n",
            "Processing data: 12\n",
            "Processing data: 13\n",
            "Processing data: 14\n",
            "Processing data: 15\n",
            "Processing data: 16\n",
            "Processing data: 17\n",
            "Processing data: 18\n",
            "Processing data: 19\n",
            "Processing data: 20\n",
            "Processing data: 21\n",
            "Processing data: 22\n",
            "Processing data: 23\n",
            "Processing data: 24\n",
            "Processing data: 25\n",
            "Processing data: 26\n",
            "Processing data: 27\n",
            "Processing data: 28\n",
            "Processing data: 29\n",
            "Processing data: 30\n",
            "Processing data: 31\n",
            "Processing data: 32\n",
            "Processing data: 33\n",
            "Processing data: 34\n",
            "Processing data: 35\n",
            "Processing data: 36\n",
            "Processing data: 37\n",
            "Processing data: 38\n",
            "Processing data: 39\n",
            "Processing data: 40\n",
            "Processing data: 41\n",
            "Processing data: 42\n",
            "Processing data: 43\n",
            "Processing data: 44\n",
            "Processing data: 45\n",
            "Processing data: 46\n",
            "Processing data: 47\n",
            "Processing data: 48\n",
            "Processing data: 49\n",
            "Processing data: 50\n",
            "Processing data: 51\n",
            "Processing data: 52\n",
            "Processing data: 53\n",
            "Processing data: 54\n",
            "Processing data: 55\n",
            "Processing data: 56\n"
          ]
        }
      ],
      "source": [
        "pred=make_predictions(test, rules_df_three)"
      ]
    },
    {
      "cell_type": "code",
      "execution_count": 89,
      "metadata": {
        "colab": {
          "base_uri": "https://localhost:8080/"
        },
        "id": "lajDItPgSUCm",
        "outputId": "a04014a7-106d-4d52-e010-4bcc0f534238"
      },
      "outputs": [
        {
          "name": "stdout",
          "output_type": "stream",
          "text": [
            "R^2 Score: -16.28132613553719\n"
          ]
        }
      ],
      "source": [
        "#calculating r2 score\n",
        "#r2 scores are low because of wrong defuzzification method\n",
        "from sklearn.metrics import r2_score\n",
        "medv_predictions = pred\n",
        "actual_values = test['MEDV'].tolist()\n",
        "r2 = r2_score(actual_values, medv_predictions)\n",
        "print(\"R^2 Score:\", r2)"
      ]
    },
    {
      "cell_type": "code",
      "execution_count": null,
      "metadata": {
        "id": "Z7gcGzaogiyz"
      },
      "outputs": [],
      "source": []
    }
  ],
  "metadata": {
    "colab": {
      "provenance": []
    },
    "kernelspec": {
      "display_name": "Python 3",
      "name": "python3"
    },
    "language_info": {
      "name": "python",
      "version": "3.9.7"
    }
  },
  "nbformat": 4,
  "nbformat_minor": 0
}
